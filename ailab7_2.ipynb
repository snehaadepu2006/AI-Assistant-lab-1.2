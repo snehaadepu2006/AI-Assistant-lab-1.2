{
  "nbformat": 4,
  "nbformat_minor": 0,
  "metadata": {
    "colab": {
      "provenance": [],
      "include_colab_link": true
    },
    "kernelspec": {
      "name": "python3",
      "display_name": "Python 3"
    },
    "language_info": {
      "name": "python"
    }
  },
  "cells": [
    {
      "cell_type": "markdown",
      "metadata": {
        "id": "view-in-github",
        "colab_type": "text"
      },
      "source": [
        "<a href=\"https://colab.research.google.com/github/snehaadepu2006/AI-Assistant-lab-1.2/blob/main/ailab7_2.ipynb\" target=\"_parent\"><img src=\"https://colab.research.google.com/assets/colab-badge.svg\" alt=\"Open In Colab\"/></a>"
      ]
    },
    {
      "cell_type": "markdown",
      "source": [
        "TASK1:SYNTAX ERROR IN CONDITIONALS"
      ],
      "metadata": {
        "id": "oCIXtTAd6FiS"
      }
    },
    {
      "cell_type": "code",
      "execution_count": null,
      "metadata": {
        "id": "AfXlYkSW563L"
      },
      "outputs": [],
      "source": [
        "a=10\n",
        "if a =10:\n",
        "  print(\"equal\")"
      ]
    },
    {
      "cell_type": "markdown",
      "source": [
        "ERROR:The error in the selected cell AfXlYkSW563L is a SyntaxError. In Python, a single equals sign (=) is used for assignment, while a double equals sign (==) is used for comparison in conditional statements. The line if a = 10: should be if a == 10: to correctly check if the value of a is equal to 10."
      ],
      "metadata": {
        "id": "rAhWsGpp7wBM"
      }
    },
    {
      "cell_type": "markdown",
      "source": [
        "debugged code:"
      ],
      "metadata": {
        "id": "6Qf4MCnC7RJM"
      }
    },
    {
      "cell_type": "code",
      "source": [
        "a=10\n",
        "if a==10:\n",
        "    print(\"equal\")"
      ],
      "metadata": {
        "colab": {
          "base_uri": "https://localhost:8080/"
        },
        "id": "fi4ipkc16tfA",
        "outputId": "15db87c5-af63-4d38-9427-620a587d8435"
      },
      "execution_count": null,
      "outputs": [
        {
          "output_type": "stream",
          "name": "stdout",
          "text": [
            "equal\n"
          ]
        }
      ]
    },
    {
      "cell_type": "markdown",
      "source": [
        "TASK2:Loop off-By-One Error"
      ],
      "metadata": {
        "id": "5k2D9tmd7hHM"
      }
    },
    {
      "cell_type": "code",
      "source": [
        "def sum_upto_n(n):\n",
        "  total=0\n",
        "  for i in range(1,n):\n",
        "    total+=i\n",
        "  return total"
      ],
      "metadata": {
        "id": "VDYmJqBl8XSg"
      },
      "execution_count": null,
      "outputs": []
    },
    {
      "cell_type": "markdown",
      "source": [
        "ERROR:The error in the code in cell VDYmJqBl8XSg is an off-by-one error in the for loop. The range(1, n) function generates numbers from 1 up to (but not including) n. To include n in the sum, the range should be range(1, n + 1)."
      ],
      "metadata": {
        "id": "N7WKQJCJ88ar"
      }
    },
    {
      "cell_type": "code",
      "metadata": {
        "colab": {
          "base_uri": "https://localhost:8080/"
        },
        "id": "c90bcd2f",
        "outputId": "b77cce58-20d2-4012-992f-3114a0fd3102"
      },
      "source": [
        "def sum_upto_n(n):\n",
        "  total=0\n",
        "  for i in range(1, n + 1):\n",
        "    total += i\n",
        "  return total\n",
        "\n",
        "print(sum_upto_n(5))"
      ],
      "execution_count": null,
      "outputs": [
        {
          "output_type": "stream",
          "name": "stdout",
          "text": [
            "15\n"
          ]
        }
      ]
    },
    {
      "cell_type": "markdown",
      "source": [
        "TASK3:ERROR:ATTRIBUTE ERROR"
      ],
      "metadata": {
        "id": "XnOB8SKj9JT2"
      }
    },
    {
      "cell_type": "code",
      "source": [
        "class User:\n",
        "  def __init__(self,name):\n",
        "    self.name=name\n",
        "\n",
        "user1=User(\"Alice\")\n",
        "print(u.getName())"
      ],
      "metadata": {
        "colab": {
          "base_uri": "https://localhost:8080/",
          "height": 176
        },
        "id": "nYUHUizn9R4R",
        "outputId": "2fdff3d5-4016-46f1-b16b-803472c44e3b"
      },
      "execution_count": null,
      "outputs": [
        {
          "output_type": "error",
          "ename": "NameError",
          "evalue": "name 'u' is not defined",
          "traceback": [
            "\u001b[0;31m---------------------------------------------------------------------------\u001b[0m",
            "\u001b[0;31mNameError\u001b[0m                                 Traceback (most recent call last)",
            "\u001b[0;32m/tmp/ipython-input-274887569.py\u001b[0m in \u001b[0;36m<cell line: 0>\u001b[0;34m()\u001b[0m\n\u001b[1;32m      4\u001b[0m \u001b[0;34m\u001b[0m\u001b[0m\n\u001b[1;32m      5\u001b[0m \u001b[0muser1\u001b[0m\u001b[0;34m=\u001b[0m\u001b[0mUser\u001b[0m\u001b[0;34m(\u001b[0m\u001b[0;34m\"Alice\"\u001b[0m\u001b[0;34m)\u001b[0m\u001b[0;34m\u001b[0m\u001b[0;34m\u001b[0m\u001b[0m\n\u001b[0;32m----> 6\u001b[0;31m \u001b[0mprint\u001b[0m\u001b[0;34m(\u001b[0m\u001b[0mu\u001b[0m\u001b[0;34m.\u001b[0m\u001b[0mgetName\u001b[0m\u001b[0;34m(\u001b[0m\u001b[0;34m)\u001b[0m\u001b[0;34m)\u001b[0m\u001b[0;34m\u001b[0m\u001b[0;34m\u001b[0m\u001b[0m\n\u001b[0m",
            "\u001b[0;31mNameError\u001b[0m: name 'u' is not defined"
          ]
        }
      ]
    },
    {
      "cell_type": "markdown",
      "source": [
        "ERROR:The error in the code in cell nYUHUizn9R4R is a NameError because the variable u is not defined. You created an instance of the User class and assigned it to the variable user1, but you are trying to access a method on a variable named u. Also, the User class does not have a method called getName(); you can access the name attribute directly using user1.name."
      ],
      "metadata": {
        "id": "h7UAzM7t9h_D"
      }
    },
    {
      "cell_type": "code",
      "metadata": {
        "colab": {
          "base_uri": "https://localhost:8080/"
        },
        "id": "0a554909",
        "outputId": "debf3c39-cd12-419c-baa4-901308482fe7"
      },
      "source": [
        "class User:\n",
        "  def __init__(self,name):\n",
        "    self.name=name\n",
        "\n",
        "user1=User(\"Alice\")\n",
        "print(user1.name)"
      ],
      "execution_count": null,
      "outputs": [
        {
          "output_type": "stream",
          "name": "stdout",
          "text": [
            "Alice\n"
          ]
        }
      ]
    },
    {
      "cell_type": "markdown",
      "source": [
        "TASK4:Incorrect class attribute inistialization"
      ],
      "metadata": {
        "id": "fZ-TVrW4-C5G"
      }
    },
    {
      "cell_type": "code",
      "source": [
        "class car:\n",
        "  def start():\n",
        "    print(\"car started\")\n",
        "mycar=car()\n",
        "mycar.start()"
      ],
      "metadata": {
        "colab": {
          "base_uri": "https://localhost:8080/",
          "height": 176
        },
        "id": "s5esXulE-Lg0",
        "outputId": "3ff64be2-61dc-4c40-b7fe-6a202adfd02a"
      },
      "execution_count": null,
      "outputs": [
        {
          "output_type": "error",
          "ename": "TypeError",
          "evalue": "car.start() takes 0 positional arguments but 1 was given",
          "traceback": [
            "\u001b[0;31m---------------------------------------------------------------------------\u001b[0m",
            "\u001b[0;31mTypeError\u001b[0m                                 Traceback (most recent call last)",
            "\u001b[0;32m/tmp/ipython-input-3509338089.py\u001b[0m in \u001b[0;36m<cell line: 0>\u001b[0;34m()\u001b[0m\n\u001b[1;32m      3\u001b[0m     \u001b[0mprint\u001b[0m\u001b[0;34m(\u001b[0m\u001b[0;34m\"car started\"\u001b[0m\u001b[0;34m)\u001b[0m\u001b[0;34m\u001b[0m\u001b[0;34m\u001b[0m\u001b[0m\n\u001b[1;32m      4\u001b[0m \u001b[0mmycar\u001b[0m\u001b[0;34m=\u001b[0m\u001b[0mcar\u001b[0m\u001b[0;34m(\u001b[0m\u001b[0;34m)\u001b[0m\u001b[0;34m\u001b[0m\u001b[0;34m\u001b[0m\u001b[0m\n\u001b[0;32m----> 5\u001b[0;31m \u001b[0mmycar\u001b[0m\u001b[0;34m.\u001b[0m\u001b[0mstart\u001b[0m\u001b[0;34m(\u001b[0m\u001b[0;34m)\u001b[0m\u001b[0;34m\u001b[0m\u001b[0;34m\u001b[0m\u001b[0m\n\u001b[0m",
            "\u001b[0;31mTypeError\u001b[0m: car.start() takes 0 positional arguments but 1 was given"
          ]
        }
      ]
    },
    {
      "cell_type": "markdown",
      "source": [
        "ERROR:self is a convention in Python and refers to the instance of the class itself."
      ],
      "metadata": {
        "id": "xSImB66V-an3"
      }
    },
    {
      "cell_type": "code",
      "metadata": {
        "colab": {
          "base_uri": "https://localhost:8080/"
        },
        "id": "4fb267d8",
        "outputId": "3cddc301-1c60-4be2-ef4c-c78b48e17927"
      },
      "source": [
        "class car:\n",
        "  def start(self):\n",
        "    print(\"car started\")\n",
        "\n",
        "mycar = car()\n",
        "mycar.start()"
      ],
      "execution_count": null,
      "outputs": [
        {
          "output_type": "stream",
          "name": "stdout",
          "text": [
            "car started\n"
          ]
        }
      ]
    },
    {
      "cell_type": "markdown",
      "source": [
        "TASK5:Conditional logic error in grading system"
      ],
      "metadata": {
        "id": "7QiUNuT0_gYa"
      }
    },
    {
      "cell_type": "code",
      "source": [
        "def grade_student(score):\n",
        "  if score<40:\n",
        "    return \"A\"\n",
        "  elif score<70:\n",
        "    return \"B\"\n",
        "  else:\n",
        "    return \"C\""
      ],
      "metadata": {
        "id": "i1hB7eGL_n_h"
      },
      "execution_count": null,
      "outputs": []
    },
    {
      "cell_type": "markdown",
      "source": [
        "ERROR:There is a logical error in the conditional statements which will result in an incorrect grading system.\n",
        "\n"
      ],
      "metadata": {
        "id": "vefqGZsl_55a"
      }
    },
    {
      "cell_type": "code",
      "metadata": {
        "colab": {
          "base_uri": "https://localhost:8080/"
        },
        "id": "a676dd26",
        "outputId": "aeb10ceb-10db-4870-da0c-266a09984085"
      },
      "source": [
        "def grade_student(score):\n",
        "  if score >= 70:\n",
        "    return \"A\"\n",
        "  elif score >= 40:\n",
        "    return \"B\"\n",
        "  else:\n",
        "    return \"C\"\n",
        "\n",
        "print(grade_student(85)) # Example usage\n",
        "print(grade_student(55))\n",
        "print(grade_student(30))"
      ],
      "execution_count": null,
      "outputs": [
        {
          "output_type": "stream",
          "name": "stdout",
          "text": [
            "A\n",
            "B\n",
            "C\n"
          ]
        }
      ]
    }
  ]
}